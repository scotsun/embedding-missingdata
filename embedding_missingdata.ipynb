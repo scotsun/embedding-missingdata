{
 "cells": [
  {
   "cell_type": "code",
   "execution_count": 1,
   "metadata": {},
   "outputs": [],
   "source": [
    "import tensorflow as tf\n",
    "from tensorflow import keras\n",
    "from keras.layers import Dense, Concatenate, Input, Lambda, Reshape\n",
    "from keras.layers import Embedding, LSTM, TimeDistributed\n",
    "from keras.utils.vis_utils import plot_model\n",
    "from keras import backend as K\n",
    "\n",
    "def rescale(x):\n",
    "\tinput_value = x[0]\n",
    "\tembedding = x[1]\n",
    "\t## force cat_code 0 represent missing data\n",
    "\tmask = K.cast(input_value == 0, dtype=K.floatx())\n",
    "\treturn embedding * mask + tf.multiply(embedding, input_value) * (1 - mask)"
   ]
  },
  {
   "cell_type": "markdown",
   "metadata": {},
   "source": [
    "### Embedding + LSTM seq2seq learning (assume a hypothetical data)"
   ]
  },
  {
   "cell_type": "code",
   "execution_count": 18,
   "metadata": {},
   "outputs": [],
   "source": [
    "categorical_vars = {\"admitType\": 4, \"sex\": 3, \"race\": 10}\n",
    "time_dim = None\n",
    "continuous_dim = 4\n",
    "cont_indct_dim = 2\n",
    "\n",
    "embedding_size = 4\n",
    "\n",
    "ins = []\n",
    "sub_models = []\n",
    "\n",
    "for cat_var in categorical_vars.keys():\n",
    "\t_input = Input(shape=(time_dim, 1,), name=cat_var)\n",
    "\tins.append(_input)\n",
    "\tk = categorical_vars[cat_var]\n",
    "\t_cat_embed = TimeDistributed(Embedding(k, embedding_size, input_length=1), name=cat_var + \"_embedded\")(_input)\n",
    "\t_cat_embed = TimeDistributed(Reshape(target_shape=(embedding_size,)), name=cat_var + \"_embedding_reshape\")(_cat_embed)\n",
    "\tsub_models.append(_cat_embed)\n",
    "\n",
    "cont_input = Input(shape=(time_dim, continuous_dim,), name=\"cont_var\")\n",
    "cont_input_indct = Input(shape=(time_dim, cont_indct_dim,), name=\"cont_indct_var\")\n",
    "ins.append(cont_input)\n",
    "ins.append(cont_input_indct)\n",
    "\n",
    "scaled_embeds = []\n",
    "for i in range(cont_indct_dim):\n",
    "\t_input = TimeDistributed(Lambda(lambda x: x[:, i+2]), name=\"slice_cont_\" + str(i))(cont_input)\n",
    "\t_input = Lambda(lambda x: tf.expand_dims(x, -1), name=\"reshape_\" + str(i))(_input)\n",
    "\t_input_indct = TimeDistributed(Lambda(lambda x: x[:, i]), name=\"slice_cont_indct_\" + str(i))(cont_input_indct)\n",
    "\t_input_indct = Lambda(lambda x: tf.expand_dims(x, -1), name=\"reshape_indct_\" + str(i))(_input_indct)\n",
    "\t_cont_indct_embed = TimeDistributed(Embedding(2, embedding_size, input_length=1),  name=\"continuous_indct_embedded_\" + str(i))(_input_indct)\n",
    "\t_cont_indct_embed = TimeDistributed(Reshape(target_shape=(embedding_size,)), name=\"continuous_indct_embedding_reshape_\" + str(i))(_cont_indct_embed)\n",
    "\t_scaled_embed = TimeDistributed(Lambda(rescale), name=\"cont_rescale_\" + str(i))([_input, _cont_indct_embed])\n",
    "\tscaled_embeds.append(_scaled_embed)\n",
    "\n",
    "sub_cont = TimeDistributed(Concatenate(name=\"concat_scaled_embedding\"))(scaled_embeds)\n",
    "\n",
    "sub_models.append(sub_cont)\n",
    "\n",
    "x = TimeDistributed(Concatenate(name=\"concat_embedding\"))(sub_models)\n",
    "x = LSTM(32, return_sequences=True)(x)\n",
    "x = LSTM(32, return_sequences=True)(x)\n",
    "outs = TimeDistributed(Dense(1, activation=\"sigmoid\"), name=\"output\")(x)\n",
    "ehr_model = keras.Model(inputs=ins, outputs=outs)"
   ]
  },
  {
   "cell_type": "code",
   "execution_count": 19,
   "metadata": {},
   "outputs": [
    {
     "name": "stdout",
     "output_type": "stream",
     "text": [
      "WARNING:tensorflow:Compiled the loaded model, but the compiled metrics have yet to be built. `model.compile_metrics` will be empty until you train or evaluate the model.\n"
     ]
    }
   ],
   "source": [
    "ehr_model.save(\"ehr_model.h5\")"
   ]
  },
  {
   "cell_type": "code",
   "execution_count": null,
   "metadata": {},
   "outputs": [],
   "source": []
  }
 ],
 "metadata": {
  "interpreter": {
   "hash": "5498173180f21b3a8393ad3fec54af51b8f992b05141d3db794d136f76fcbb38"
  },
  "kernelspec": {
   "display_name": "Python 3.10.4 ('missingdata')",
   "language": "python",
   "name": "python3"
  },
  "language_info": {
   "codemirror_mode": {
    "name": "ipython",
    "version": 3
   },
   "file_extension": ".py",
   "mimetype": "text/x-python",
   "name": "python",
   "nbconvert_exporter": "python",
   "pygments_lexer": "ipython3",
   "version": "3.10.4"
  },
  "orig_nbformat": 4
 },
 "nbformat": 4,
 "nbformat_minor": 2
}
