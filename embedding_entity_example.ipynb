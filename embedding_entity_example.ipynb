{
 "cells": [
  {
   "cell_type": "code",
   "execution_count": 1,
   "metadata": {},
   "outputs": [],
   "source": [
    "import numpy as np\n",
    "import pandas as pd\n",
    "import matplotlib.pyplot as plt\n",
    "plt.style.use('Solarize_Light2')"
   ]
  },
  {
   "cell_type": "code",
   "execution_count": 2,
   "metadata": {},
   "outputs": [],
   "source": [
    "import tensorflow as tf\n",
    "from tensorflow import keras\n",
    "from keras.layers import Dense, Concatenate, Input, Flatten, Lambda, Reshape\n",
    "from keras.layers.embeddings import Embedding"
   ]
  },
  {
   "cell_type": "code",
   "execution_count": 3,
   "metadata": {},
   "outputs": [],
   "source": [
    "df = pd.read_csv('./car.data', header=None)\n",
    "df.columns = [\"buying\", \"maint\", \"doors\", \"persons\", \"lug_boot\", \"safety\", \"target\"]\n",
    "categorical_vars = df.columns[:-1]\n",
    "for cat_var in df.columns:\n",
    "\tdf[cat_var] = df[cat_var].astype(\"category\")"
   ]
  },
  {
   "cell_type": "code",
   "execution_count": 4,
   "metadata": {},
   "outputs": [
    {
     "name": "stdout",
     "output_type": "stream",
     "text": [
      "buying {0: 'high', 1: 'low', 2: 'med', 3: 'vhigh'}\n",
      "maint {0: 'high', 1: 'low', 2: 'med', 3: 'vhigh'}\n",
      "doors {0: '2', 1: '3', 2: '4', 3: '5more'}\n",
      "persons {0: '2', 1: '4', 2: 'more'}\n",
      "lug_boot {0: 'big', 1: 'med', 2: 'small'}\n",
      "safety {0: 'high', 1: 'low', 2: 'med'}\n",
      "target {0: 'acc', 1: 'good', 2: 'unacc', 3: 'vgood'}\n"
     ]
    }
   ],
   "source": [
    "for cat_var in df.columns:\n",
    "\tprint(cat_var, dict(enumerate(df[cat_var].cat.categories)))\n",
    "\tdf[cat_var] = df[cat_var].cat.codes"
   ]
  },
  {
   "cell_type": "code",
   "execution_count": 5,
   "metadata": {},
   "outputs": [
    {
     "name": "stdout",
     "output_type": "stream",
     "text": [
      "(1728, 7)\n"
     ]
    },
    {
     "data": {
      "text/html": [
       "<div>\n",
       "<style scoped>\n",
       "    .dataframe tbody tr th:only-of-type {\n",
       "        vertical-align: middle;\n",
       "    }\n",
       "\n",
       "    .dataframe tbody tr th {\n",
       "        vertical-align: top;\n",
       "    }\n",
       "\n",
       "    .dataframe thead th {\n",
       "        text-align: right;\n",
       "    }\n",
       "</style>\n",
       "<table border=\"1\" class=\"dataframe\">\n",
       "  <thead>\n",
       "    <tr style=\"text-align: right;\">\n",
       "      <th></th>\n",
       "      <th>buying</th>\n",
       "      <th>maint</th>\n",
       "      <th>doors</th>\n",
       "      <th>persons</th>\n",
       "      <th>lug_boot</th>\n",
       "      <th>safety</th>\n",
       "      <th>target</th>\n",
       "    </tr>\n",
       "  </thead>\n",
       "  <tbody>\n",
       "    <tr>\n",
       "      <th>0</th>\n",
       "      <td>3</td>\n",
       "      <td>3</td>\n",
       "      <td>0</td>\n",
       "      <td>0</td>\n",
       "      <td>2</td>\n",
       "      <td>1</td>\n",
       "      <td>2</td>\n",
       "    </tr>\n",
       "    <tr>\n",
       "      <th>1</th>\n",
       "      <td>3</td>\n",
       "      <td>3</td>\n",
       "      <td>0</td>\n",
       "      <td>0</td>\n",
       "      <td>2</td>\n",
       "      <td>2</td>\n",
       "      <td>2</td>\n",
       "    </tr>\n",
       "    <tr>\n",
       "      <th>2</th>\n",
       "      <td>3</td>\n",
       "      <td>3</td>\n",
       "      <td>0</td>\n",
       "      <td>0</td>\n",
       "      <td>2</td>\n",
       "      <td>0</td>\n",
       "      <td>2</td>\n",
       "    </tr>\n",
       "    <tr>\n",
       "      <th>3</th>\n",
       "      <td>3</td>\n",
       "      <td>3</td>\n",
       "      <td>0</td>\n",
       "      <td>0</td>\n",
       "      <td>1</td>\n",
       "      <td>1</td>\n",
       "      <td>2</td>\n",
       "    </tr>\n",
       "    <tr>\n",
       "      <th>4</th>\n",
       "      <td>3</td>\n",
       "      <td>3</td>\n",
       "      <td>0</td>\n",
       "      <td>0</td>\n",
       "      <td>1</td>\n",
       "      <td>2</td>\n",
       "      <td>2</td>\n",
       "    </tr>\n",
       "  </tbody>\n",
       "</table>\n",
       "</div>"
      ],
      "text/plain": [
       "   buying  maint  doors  persons  lug_boot  safety  target\n",
       "0       3      3      0        0         2       1       2\n",
       "1       3      3      0        0         2       2       2\n",
       "2       3      3      0        0         2       0       2\n",
       "3       3      3      0        0         1       1       2\n",
       "4       3      3      0        0         1       2       2"
      ]
     },
     "execution_count": 5,
     "metadata": {},
     "output_type": "execute_result"
    }
   ],
   "source": [
    "print(df.shape)\n",
    "df.head()"
   ]
  },
  {
   "cell_type": "code",
   "execution_count": 6,
   "metadata": {},
   "outputs": [],
   "source": [
    "np.random.seed(10001)\n",
    "df_train = df.sample(frac=0.8)\n",
    "df_test = df.drop(df_train.index, axis=0)\n",
    "\n",
    "\n",
    "X_train = df_train.drop(\"target\", axis=1)\n",
    "y_train = df_train[\"target\"].values\n",
    "\n",
    "X_test = df_test.drop(\"target\", axis=1)\n",
    "y_test = df_test[\"target\"].values"
   ]
  },
  {
   "cell_type": "code",
   "execution_count": 7,
   "metadata": {},
   "outputs": [],
   "source": [
    "X_train_preprocessed = []\n",
    "for c in X_train.columns:\n",
    "\tX_train_preprocessed.append(X_train[c].to_numpy())\n",
    "X_test_preprocessed = []\n",
    "for c in X_test.columns:\n",
    "\tX_test_preprocessed.append(X_test[c].to_numpy())"
   ]
  },
  {
   "cell_type": "code",
   "execution_count": null,
   "metadata": {},
   "outputs": [],
   "source": [
    "embedding_size = 4\n",
    "ins = []\n",
    "embedded_models = []\n",
    "for cat_var in categorical_vars:\n",
    "\t_input = Input(shape=(1,), name=cat_var)\n",
    "\tins.append(_input)\n",
    "\tk = df_train[cat_var].nunique()\n",
    "\t_embedded = Embedding(k, embedding_size, input_length=1, name=cat_var + \"_embedded\")(_input)\n",
    "\tembedded_models.append(_embedded)\n",
    "x = Concatenate()(embedded_models)\n",
    "x = Flatten()(x)\n",
    "for _ in range(4):\n",
    "\tx = Dense(200, activation=\"relu\")(x)\n",
    "outs = Dense(4, activation=\"softmax\")(x)\n",
    "model = keras.Model(inputs=ins, outputs=outs)"
   ]
  },
  {
   "cell_type": "code",
   "execution_count": null,
   "metadata": {},
   "outputs": [],
   "source": [
    "model.compile(loss=\"sparse_categorical_crossentropy\", optimizer = keras.optimizers.Adam(learning_rate=1e-4), metrics=[\"accuracy\"])"
   ]
  },
  {
   "cell_type": "code",
   "execution_count": null,
   "metadata": {},
   "outputs": [],
   "source": [
    "callback = keras.callbacks.EarlyStopping(monitor='accuracy', patience=3)\n",
    "history = model.fit(x=X_train_preprocessed, y=y_train, epochs = 50, batch_size = 4, callbacks=[callback], validation_split=0.1)"
   ]
  },
  {
   "cell_type": "code",
   "execution_count": null,
   "metadata": {},
   "outputs": [],
   "source": [
    "fig, axs = plt.subplots(1, 2, figsize=(15, 6))\n",
    "axs[0].plot(history.history['loss'])\n",
    "axs[0].plot(history.history['val_loss'])\n",
    "axs[0].set_xlabel('Epoch')\n",
    "axs[0].set_ylabel('Loss')\n",
    "axs[1].plot(history.epoch, history.history['val_accuracy'], label='Validation')\n",
    "axs[1].plot(history.epoch, history.history['accuracy'], label='Training')\n",
    "axs[1].set_xlabel('Epoch')\n",
    "axs[1].set_ylabel('Accuracy')\n",
    "axs[1].set_xlim(left=0, right=history.epoch[-1])\n",
    "baseline_acc = (np.bincount(y_train) / len(y_train)).max().round(3)\n",
    "axs[1].axhline(baseline_acc, ls='--', label='Baseline', color='#002255', alpha=0.5)\n",
    "fig.legend(labelcolor='linecolor')"
   ]
  },
  {
   "cell_type": "markdown",
   "metadata": {},
   "source": [
    "## All-predictor model (for scalar multiplication)"
   ]
  },
  {
   "cell_type": "code",
   "execution_count": 8,
   "metadata": {},
   "outputs": [
    {
     "name": "stderr",
     "output_type": "stream",
     "text": [
      "2022-06-08 23:44:42.776413: I tensorflow/core/platform/cpu_feature_guard.cc:193] This TensorFlow binary is optimized with oneAPI Deep Neural Network Library (oneDNN) to use the following CPU instructions in performance-critical operations:  AVX2 AVX512F AVX512_VNNI FMA\n",
      "To enable them in other operations, rebuild TensorFlow with the appropriate compiler flags.\n"
     ]
    }
   ],
   "source": [
    "embedding_size = 4\n",
    "ins = []\n",
    "sub_models = []\n",
    "for cat_var in categorical_vars:\n",
    "\t_input = Input(shape=(1,), name=cat_var)\n",
    "\tins.append(_input)\n",
    "\tk = df_train[cat_var].nunique()\n",
    "\t_embedded = Embedding(k, embedding_size, input_length=1, name=cat_var + \"_embedded\")(_input)\n",
    "\t_embedded = Reshape(target_shape=(embedding_size,))(_embedded)\n",
    "\tsub_model = Lambda(lambda x: tf.multiply(x[0], x[1]), name=cat_var + \"_mult\")([_input, _embedded])\n",
    "\tsub_models.append(sub_model)\n",
    "x = Concatenate()(sub_models)\n",
    "for _ in range(4):\n",
    "\tx = Dense(200, activation=\"relu\")(x)\n",
    "outs = Dense(4, activation=\"softmax\")(x)\n",
    "model = keras.Model(inputs=ins, outputs=outs)"
   ]
  },
  {
   "cell_type": "code",
   "execution_count": 9,
   "metadata": {},
   "outputs": [],
   "source": [
    "model.compile(loss=\"sparse_categorical_crossentropy\", optimizer = keras.optimizers.Adam(learning_rate=1e-4), metrics=[\"accuracy\"])"
   ]
  },
  {
   "cell_type": "code",
   "execution_count": 10,
   "metadata": {},
   "outputs": [
    {
     "name": "stdout",
     "output_type": "stream",
     "text": [
      "Epoch 1/50\n",
      "311/311 [==============================] - 2s 4ms/step - loss: 0.9519 - accuracy: 0.6887 - val_loss: 0.7081 - val_accuracy: 0.7410\n",
      "Epoch 2/50\n",
      "311/311 [==============================] - 1s 3ms/step - loss: 0.6511 - accuracy: 0.7265 - val_loss: 0.5219 - val_accuracy: 0.7914\n",
      "Epoch 3/50\n",
      "311/311 [==============================] - 1s 3ms/step - loss: 0.4608 - accuracy: 0.8126 - val_loss: 0.3732 - val_accuracy: 0.8417\n",
      "Epoch 4/50\n",
      "311/311 [==============================] - 1s 3ms/step - loss: 0.3466 - accuracy: 0.8504 - val_loss: 0.2831 - val_accuracy: 0.8777\n",
      "Epoch 5/50\n",
      "311/311 [==============================] - 1s 3ms/step - loss: 0.2825 - accuracy: 0.8721 - val_loss: 0.2400 - val_accuracy: 0.8705\n",
      "Epoch 6/50\n",
      "311/311 [==============================] - 1s 3ms/step - loss: 0.2316 - accuracy: 0.9083 - val_loss: 0.1869 - val_accuracy: 0.9137\n",
      "Epoch 7/50\n",
      "311/311 [==============================] - 1s 3ms/step - loss: 0.1963 - accuracy: 0.9244 - val_loss: 0.1676 - val_accuracy: 0.9424\n",
      "Epoch 8/50\n",
      "311/311 [==============================] - 1s 3ms/step - loss: 0.1863 - accuracy: 0.9300 - val_loss: 0.1808 - val_accuracy: 0.9281\n",
      "Epoch 9/50\n",
      "311/311 [==============================] - 1s 3ms/step - loss: 0.1616 - accuracy: 0.9445 - val_loss: 0.1584 - val_accuracy: 0.9281\n",
      "Epoch 10/50\n",
      "311/311 [==============================] - 1s 3ms/step - loss: 0.1417 - accuracy: 0.9509 - val_loss: 0.1385 - val_accuracy: 0.9424\n",
      "Epoch 11/50\n",
      "311/311 [==============================] - 1s 3ms/step - loss: 0.1250 - accuracy: 0.9558 - val_loss: 0.1197 - val_accuracy: 0.9640\n",
      "Epoch 12/50\n",
      "311/311 [==============================] - 1s 3ms/step - loss: 0.1154 - accuracy: 0.9582 - val_loss: 0.0959 - val_accuracy: 0.9640\n",
      "Epoch 13/50\n",
      "311/311 [==============================] - 1s 3ms/step - loss: 0.1089 - accuracy: 0.9646 - val_loss: 0.1007 - val_accuracy: 0.9496\n",
      "Epoch 14/50\n",
      "311/311 [==============================] - 1s 3ms/step - loss: 0.0954 - accuracy: 0.9718 - val_loss: 0.1217 - val_accuracy: 0.9353\n",
      "Epoch 15/50\n",
      "311/311 [==============================] - 1s 3ms/step - loss: 0.0854 - accuracy: 0.9743 - val_loss: 0.0751 - val_accuracy: 0.9856\n",
      "Epoch 16/50\n",
      "311/311 [==============================] - 1s 3ms/step - loss: 0.0787 - accuracy: 0.9751 - val_loss: 0.0811 - val_accuracy: 0.9424\n",
      "Epoch 17/50\n",
      "311/311 [==============================] - 1s 3ms/step - loss: 0.0681 - accuracy: 0.9791 - val_loss: 0.0820 - val_accuracy: 0.9712\n",
      "Epoch 18/50\n",
      "311/311 [==============================] - 1s 3ms/step - loss: 0.0606 - accuracy: 0.9791 - val_loss: 0.0656 - val_accuracy: 0.9640\n",
      "Epoch 19/50\n",
      "311/311 [==============================] - 1s 3ms/step - loss: 0.0577 - accuracy: 0.9823 - val_loss: 0.0694 - val_accuracy: 0.9712\n",
      "Epoch 20/50\n",
      "311/311 [==============================] - 1s 3ms/step - loss: 0.0494 - accuracy: 0.9847 - val_loss: 0.0610 - val_accuracy: 0.9640\n",
      "Epoch 21/50\n",
      "311/311 [==============================] - 1s 3ms/step - loss: 0.0389 - accuracy: 0.9903 - val_loss: 0.0598 - val_accuracy: 0.9856\n",
      "Epoch 22/50\n",
      "311/311 [==============================] - 1s 3ms/step - loss: 0.0376 - accuracy: 0.9879 - val_loss: 0.0494 - val_accuracy: 0.9712\n",
      "Epoch 23/50\n",
      "311/311 [==============================] - 1s 3ms/step - loss: 0.0400 - accuracy: 0.9863 - val_loss: 0.0597 - val_accuracy: 0.9712\n",
      "Epoch 24/50\n",
      "311/311 [==============================] - 1s 3ms/step - loss: 0.0300 - accuracy: 0.9944 - val_loss: 0.0462 - val_accuracy: 0.9784\n",
      "Epoch 25/50\n",
      "311/311 [==============================] - 1s 3ms/step - loss: 0.0313 - accuracy: 0.9895 - val_loss: 0.0306 - val_accuracy: 0.9928\n",
      "Epoch 26/50\n",
      "311/311 [==============================] - 1s 3ms/step - loss: 0.0232 - accuracy: 0.9944 - val_loss: 0.0220 - val_accuracy: 1.0000\n",
      "Epoch 27/50\n",
      "311/311 [==============================] - 1s 3ms/step - loss: 0.0187 - accuracy: 0.9976 - val_loss: 0.1003 - val_accuracy: 0.9424\n",
      "Epoch 28/50\n",
      "311/311 [==============================] - 1s 3ms/step - loss: 0.0221 - accuracy: 0.9960 - val_loss: 0.0335 - val_accuracy: 0.9856\n",
      "Epoch 29/50\n",
      "311/311 [==============================] - 1s 3ms/step - loss: 0.0118 - accuracy: 1.0000 - val_loss: 0.0273 - val_accuracy: 0.9856\n",
      "Epoch 30/50\n",
      "311/311 [==============================] - 1s 3ms/step - loss: 0.0093 - accuracy: 1.0000 - val_loss: 0.0199 - val_accuracy: 0.9928\n",
      "Epoch 31/50\n",
      "311/311 [==============================] - 1s 3ms/step - loss: 0.0123 - accuracy: 0.9976 - val_loss: 0.0344 - val_accuracy: 0.9784\n",
      "Epoch 32/50\n",
      "311/311 [==============================] - 1s 3ms/step - loss: 0.0154 - accuracy: 0.9952 - val_loss: 0.0176 - val_accuracy: 1.0000\n"
     ]
    }
   ],
   "source": [
    "callback = keras.callbacks.EarlyStopping(monitor='accuracy', patience=3)\n",
    "history = model.fit(x=X_train_preprocessed, y=y_train, epochs = 50, batch_size = 4, callbacks=[callback], validation_split=0.1)"
   ]
  },
  {
   "cell_type": "code",
   "execution_count": 15,
   "metadata": {},
   "outputs": [
    {
     "data": {
      "text/plain": [
       "<matplotlib.legend.Legend at 0x7f9b63323a30>"
      ]
     },
     "execution_count": 15,
     "metadata": {},
     "output_type": "execute_result"
    },
    {
     "data": {
      "image/png": "[encoded data removed]",
      "text/plain": [
       "<Figure size 1080x432 with 2 Axes>"
      ]
     },
     "metadata": {},
     "output_type": "display_data"
    }
   ],
   "source": [
    "fig, axs = plt.subplots(1, 2, figsize=(15, 6))\n",
    "axs[0].plot(history.history['val_loss'], label=\"Validation\")\n",
    "axs[0].plot(history.history['loss'], label=\"Training\")\n",
    "axs[0].set_xlabel('Epoch')\n",
    "axs[0].set_ylabel('Loss')\n",
    "axs[0].legend(labelcolor='linecolor')\n",
    "axs[1].plot(history.epoch, history.history['val_accuracy'], label='Validation')\n",
    "axs[1].plot(history.epoch, history.history['accuracy'], label='Training')\n",
    "axs[1].set_xlabel('Epoch')\n",
    "axs[1].set_ylabel('Accuracy')\n",
    "axs[1].set_xlim(left=0, right=history.epoch[-1])\n",
    "baseline_acc = (np.bincount(y_train) / len(y_train)).max().round(3)\n",
    "axs[1].axhline(baseline_acc, ls='--', label='Baseline', color='#002255', alpha=0.5)\n",
    "axs[1].legend(labelcolor='linecolor')"
   ]
  },
  {
   "cell_type": "code",
   "execution_count": 16,
   "metadata": {},
   "outputs": [
    {
     "name": "stdout",
     "output_type": "stream",
     "text": [
      "11/11 [==============================] - 0s 2ms/step\n"
     ]
    },
    {
     "data": {
      "text/plain": [
       "0.988"
      ]
     },
     "execution_count": 16,
     "metadata": {},
     "output_type": "execute_result"
    }
   ],
   "source": [
    "yh_test = model.predict(x=X_test_preprocessed).argmax(axis=1)\n",
    "(yh_test == y_test).mean().round(3)"
   ]
  },
  {
   "cell_type": "markdown",
   "metadata": {},
   "source": [
    "**Convert one-hot to embedding vectors**"
   ]
  },
  {
   "cell_type": "code",
   "execution_count": null,
   "metadata": {},
   "outputs": [],
   "source": [
    "layer = model.get_layer('buying_embedded')\n",
    "output_concat_embeddings = layer.get_weights()\n",
    "print(output_concat_embeddings[0])"
   ]
  },
  {
   "cell_type": "code",
   "execution_count": null,
   "metadata": {},
   "outputs": [],
   "source": [
    "M = output_concat_embeddings[0][:4,:]\n",
    "M"
   ]
  },
  {
   "cell_type": "code",
   "execution_count": null,
   "metadata": {},
   "outputs": [],
   "source": [
    "pd.get_dummies(X_train[\"buying\"])"
   ]
  },
  {
   "cell_type": "code",
   "execution_count": null,
   "metadata": {},
   "outputs": [],
   "source": [
    "pd.DataFrame(pd.get_dummies(X_train[\"buying\"]).values.dot(M), columns=[\"buying_embedded_\" + str(i) for i in range(4)], index=X_train.index)"
   ]
  },
  {
   "cell_type": "code",
   "execution_count": null,
   "metadata": {},
   "outputs": [],
   "source": [
    "dfs = []\n",
    "for cat_var in categorical_vars:\n",
    "\tlayer = model.get_layer(cat_var + \"_embedded\")\n",
    "\toutput_concat_embeddings = layer.get_weights()\n",
    "\tk = output_concat_embeddings[0].shape[0] - 1\n",
    "\tM = output_concat_embeddings[0][:k,:]\n",
    "\t_df = pd.DataFrame(pd.get_dummies(X_train[cat_var]).values.dot(M), columns=[cat_var + \"_embedded_\" + str(i) for i in range(4)], index=X_train.index)\n",
    "\tdfs.append(_df)\n",
    "\n",
    "X_train_embd_transformed = pd.concat(dfs, axis=1)"
   ]
  },
  {
   "cell_type": "code",
   "execution_count": null,
   "metadata": {},
   "outputs": [],
   "source": [
    "print(X_train_embd_transformed.shape)\n",
    "X_train_embd_transformed.head()"
   ]
  },
  {
   "cell_type": "markdown",
   "metadata": {},
   "source": [
    "**extract weight sketch**"
   ]
  },
  {
   "cell_type": "code",
   "execution_count": 29,
   "metadata": {},
   "outputs": [],
   "source": [
    "dfs = []\n",
    "for layer in model.layers:\n",
    "\tif isinstance(layer, Embedding):\n",
    "\t\tM = layer.get_weights()[0]\n",
    "\t\tk = M.shape[0]\n",
    "\t\tlayer_name = layer.name\n",
    "\t\tcat_var = layer_name[:-9]\n",
    "\t\t_df = pd.DataFrame(pd.get_dummies(X_train[cat_var]).values.dot(M), columns=[layer_name + str(i) for i in range(4)], index=X_train.index)\n",
    "\t\tdfs.append(_df)"
   ]
  }
 ],
 "metadata": {
  "interpreter": {
   "hash": "5498173180f21b3a8393ad3fec54af51b8f992b05141d3db794d136f76fcbb38"
  },
  "kernelspec": {
   "display_name": "Python 3.10.4 ('missingdata')",
   "language": "python",
   "name": "python3"
  },
  "language_info": {
   "codemirror_mode": {
    "name": "ipython",
    "version": 3
   },
   "file_extension": ".py",
   "mimetype": "text/x-python",
   "name": "python",
   "nbconvert_exporter": "python",
   "pygments_lexer": "ipython3",
   "version": "3.10.4"
  },
  "orig_nbformat": 4
 },
 "nbformat": 4,
 "nbformat_minor": 2
}
