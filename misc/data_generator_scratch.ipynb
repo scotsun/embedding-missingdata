{
 "cells": [
  {
   "cell_type": "code",
   "execution_count": 14,
   "metadata": {},
   "outputs": [],
   "source": [
    "import pandas as pd\n",
    "import numpy as np\n",
    "import matplotlib.pyplot as plt\n",
    "from matplotlib.figure import Figure\n",
    "plt.style.use('Solarize_Light2')\n",
    "from keras.models import Sequential\n",
    "from keras.layers import Dense, Dropout\n",
    "from keras.metrics import AUC\n",
    "from keras.optimizers import Adam\n",
    "from data_generator import DataGenerator\n",
    "from sklearn.model_selection import train_test_split"
   ]
  },
  {
   "cell_type": "code",
   "execution_count": 15,
   "metadata": {},
   "outputs": [],
   "source": [
    "def plot_hist(hist, metric: str) -> Figure:\n",
    "\tfig, axs = plt.subplots(1, 2, figsize=(15, 6))\n",
    "\taxs[0].plot(hist.history['val_loss'], label=\"Validation\")\n",
    "\taxs[0].plot(hist.history['loss'], label=\"Training\")\n",
    "\taxs[0].set_xlabel('Epoch')\n",
    "\taxs[0].set_ylabel('Loss')\n",
    "\taxs[0].legend(labelcolor='linecolor')\n",
    "\taxs[1].plot(hist.epoch, hist.history['val_' + metric], label='Validation')\n",
    "\taxs[1].plot(hist.epoch, hist.history[metric], label='Training')\n",
    "\taxs[1].set_xlabel('Epoch')\n",
    "\taxs[1].set_ylabel(metric.capitalize())\n",
    "\taxs[1].set_xlim(left=0, right=hist.epoch[-1])\n",
    "\tbaseline_acc = (np.bincount(y_train) / len(y_train)).max().round(3)\n",
    "\taxs[1].axhline(baseline_acc, ls='--', label='Train baseline', color='#002255', alpha=0.5)\n",
    "\taxs[1].legend(labelcolor='linecolor')\n",
    "\treturn fig"
   ]
  },
  {
   "cell_type": "code",
   "execution_count": 3,
   "metadata": {},
   "outputs": [],
   "source": [
    "df = pd.read_csv(\"../ionosphere.data\", header=None)\n",
    "df = df.drop(df.columns[[1, 34]], axis=1)\n",
    "df_train, df_test = train_test_split(df, test_size=0.2)"
   ]
  },
  {
   "cell_type": "code",
   "execution_count": 4,
   "metadata": {},
   "outputs": [],
   "source": [
    "X_train = df_train.iloc[:,1:].values\n",
    "y_train = df_train.iloc[:,0].values\n",
    "\n",
    "X_test = df_test.iloc[:,1:].values\n",
    "y_test = df_test.iloc[:,0].values"
   ]
  },
  {
   "cell_type": "code",
   "execution_count": 5,
   "metadata": {},
   "outputs": [],
   "source": [
    "data_gen_train = DataGenerator(X_train, y_train, 10, True)\n",
    "data_gen_test = DataGenerator(X_test, y_test, 10, False)"
   ]
  },
  {
   "cell_type": "code",
   "execution_count": 6,
   "metadata": {},
   "outputs": [
    {
     "name": "stdout",
     "output_type": "stream",
     "text": [
      "56 7\n",
      "280 71\n",
      "[ 29 251] [ 9 62]\n"
     ]
    }
   ],
   "source": [
    "print(len(data_gen_train), len(data_gen_test))\n",
    "print(len(data_gen_train._y), len(data_gen_test._y))\n",
    "print(np.bincount(data_gen_train._y), np.bincount(data_gen_test._y))"
   ]
  },
  {
   "cell_type": "code",
   "execution_count": 7,
   "metadata": {},
   "outputs": [
    {
     "name": "stderr",
     "output_type": "stream",
     "text": [
      "2022-06-24 17:14:10.501291: I tensorflow/core/platform/cpu_feature_guard.cc:193] This TensorFlow binary is optimized with oneAPI Deep Neural Network Library (oneDNN) to use the following CPU instructions in performance-critical operations:  AVX2 AVX512F AVX512_VNNI FMA\n",
      "To enable them in other operations, rebuild TensorFlow with the appropriate compiler flags.\n"
     ]
    }
   ],
   "source": [
    "model = Sequential(\n",
    "    [\n",
    "        Dense(10, activation=\"relu\", name=\"layer1\"),\n",
    "        Dropout(0.4),\n",
    "        Dense(10, activation=\"relu\", name=\"layer2\"),\n",
    "        Dropout(0.4),\n",
    "        Dense(1, activation=\"sigmoid\", name=\"layer3\"),\n",
    "    ]\n",
    ")\n",
    "auc = AUC(curve=\"ROC\", name=\"auc\")\n",
    "model.compile(loss=\"binary_crossentropy\", optimizer=Adam(learning_rate=5e-4), metrics=[auc])"
   ]
  },
  {
   "cell_type": "code",
   "execution_count": 8,
   "metadata": {},
   "outputs": [
    {
     "name": "stdout",
     "output_type": "stream",
     "text": [
      "Epoch 1/100\n",
      "56/56 [==============================] - 1s 8ms/step - loss: 0.8031 - auc: 0.4352 - val_loss: 0.7204 - val_auc: 0.5729\n",
      "Epoch 2/100\n",
      "56/56 [==============================] - 0s 2ms/step - loss: 0.7446 - auc: 0.4876 - val_loss: 0.7039 - val_auc: 0.7022\n",
      "Epoch 3/100\n",
      "56/56 [==============================] - 0s 3ms/step - loss: 0.7197 - auc: 0.5245 - val_loss: 0.6877 - val_auc: 0.8124\n",
      "Epoch 4/100\n",
      "56/56 [==============================] - 0s 3ms/step - loss: 0.6884 - auc: 0.5869 - val_loss: 0.6784 - val_auc: 0.8324\n",
      "Epoch 5/100\n",
      "56/56 [==============================] - 0s 3ms/step - loss: 0.6648 - auc: 0.6213 - val_loss: 0.6695 - val_auc: 0.8406\n",
      "Epoch 6/100\n",
      "56/56 [==============================] - 0s 5ms/step - loss: 0.6633 - auc: 0.6138 - val_loss: 0.6648 - val_auc: 0.8488\n",
      "Epoch 7/100\n",
      "56/56 [==============================] - 0s 3ms/step - loss: 0.6874 - auc: 0.6033 - val_loss: 0.6447 - val_auc: 0.8506\n",
      "Epoch 8/100\n",
      "56/56 [==============================] - 0s 2ms/step - loss: 0.6287 - auc: 0.7005 - val_loss: 0.6425 - val_auc: 0.8452\n",
      "Epoch 9/100\n",
      "56/56 [==============================] - 0s 2ms/step - loss: 0.6199 - auc: 0.7203 - val_loss: 0.6240 - val_auc: 0.8579\n",
      "Epoch 10/100\n",
      "56/56 [==============================] - 0s 3ms/step - loss: 0.6071 - auc: 0.7283 - val_loss: 0.6313 - val_auc: 0.8525\n",
      "Epoch 11/100\n",
      "56/56 [==============================] - 0s 3ms/step - loss: 0.5904 - auc: 0.7630 - val_loss: 0.6226 - val_auc: 0.8525\n",
      "Epoch 12/100\n",
      "56/56 [==============================] - 0s 3ms/step - loss: 0.6041 - auc: 0.7282 - val_loss: 0.6184 - val_auc: 0.8543\n",
      "Epoch 13/100\n",
      "56/56 [==============================] - 0s 2ms/step - loss: 0.5730 - auc: 0.7660 - val_loss: 0.6151 - val_auc: 0.8434\n",
      "Epoch 14/100\n",
      "56/56 [==============================] - 0s 2ms/step - loss: 0.5529 - auc: 0.8031 - val_loss: 0.6090 - val_auc: 0.8370\n",
      "Epoch 15/100\n",
      "56/56 [==============================] - 0s 2ms/step - loss: 0.5686 - auc: 0.7893 - val_loss: 0.6007 - val_auc: 0.8479\n",
      "Epoch 16/100\n",
      "56/56 [==============================] - 0s 2ms/step - loss: 0.5486 - auc: 0.8133 - val_loss: 0.6014 - val_auc: 0.8233\n",
      "Epoch 17/100\n",
      "56/56 [==============================] - 0s 2ms/step - loss: 0.5210 - auc: 0.8495 - val_loss: 0.5983 - val_auc: 0.8333\n",
      "Epoch 18/100\n",
      "56/56 [==============================] - 0s 2ms/step - loss: 0.5406 - auc: 0.8210 - val_loss: 0.5915 - val_auc: 0.8124\n",
      "Epoch 19/100\n",
      "56/56 [==============================] - 0s 2ms/step - loss: 0.5274 - auc: 0.8404 - val_loss: 0.5734 - val_auc: 0.8124\n",
      "Epoch 20/100\n",
      "56/56 [==============================] - 0s 2ms/step - loss: 0.5215 - auc: 0.8254 - val_loss: 0.5728 - val_auc: 0.7978\n",
      "Epoch 21/100\n",
      "56/56 [==============================] - 0s 2ms/step - loss: 0.5260 - auc: 0.8278 - val_loss: 0.5713 - val_auc: 0.7887\n",
      "Epoch 22/100\n",
      "56/56 [==============================] - 0s 3ms/step - loss: 0.5160 - auc: 0.8303 - val_loss: 0.5638 - val_auc: 0.7987\n",
      "Epoch 23/100\n",
      "56/56 [==============================] - 0s 3ms/step - loss: 0.4978 - auc: 0.8533 - val_loss: 0.5698 - val_auc: 0.7860\n",
      "Epoch 24/100\n",
      "56/56 [==============================] - 0s 3ms/step - loss: 0.4882 - auc: 0.8479 - val_loss: 0.5640 - val_auc: 0.7678\n",
      "Epoch 25/100\n",
      "56/56 [==============================] - 0s 3ms/step - loss: 0.4901 - auc: 0.8445 - val_loss: 0.5545 - val_auc: 0.7668\n",
      "Epoch 26/100\n",
      "56/56 [==============================] - 0s 2ms/step - loss: 0.4509 - auc: 0.8749 - val_loss: 0.5497 - val_auc: 0.7714\n",
      "Epoch 27/100\n",
      "56/56 [==============================] - 0s 3ms/step - loss: 0.4638 - auc: 0.8747 - val_loss: 0.5471 - val_auc: 0.7860\n",
      "Epoch 28/100\n",
      "56/56 [==============================] - 0s 2ms/step - loss: 0.4386 - auc: 0.8844 - val_loss: 0.5384 - val_auc: 0.8115\n",
      "Epoch 29/100\n",
      "56/56 [==============================] - 0s 4ms/step - loss: 0.4305 - auc: 0.9009 - val_loss: 0.5321 - val_auc: 0.7960\n",
      "Epoch 30/100\n",
      "56/56 [==============================] - 0s 2ms/step - loss: 0.4595 - auc: 0.8829 - val_loss: 0.5183 - val_auc: 0.7805\n",
      "Epoch 31/100\n",
      "56/56 [==============================] - 0s 2ms/step - loss: 0.4541 - auc: 0.8798 - val_loss: 0.5147 - val_auc: 0.7650\n",
      "Epoch 32/100\n",
      "56/56 [==============================] - 0s 2ms/step - loss: 0.4456 - auc: 0.8880 - val_loss: 0.5108 - val_auc: 0.7814\n",
      "Epoch 33/100\n",
      "56/56 [==============================] - 0s 2ms/step - loss: 0.4287 - auc: 0.8992 - val_loss: 0.5133 - val_auc: 0.7787\n",
      "Epoch 34/100\n",
      "56/56 [==============================] - 0s 2ms/step - loss: 0.4114 - auc: 0.8922 - val_loss: 0.5111 - val_auc: 0.7769\n",
      "Epoch 35/100\n",
      "56/56 [==============================] - 0s 2ms/step - loss: 0.4364 - auc: 0.8632 - val_loss: 0.5019 - val_auc: 0.7942\n",
      "Epoch 36/100\n",
      "56/56 [==============================] - 0s 3ms/step - loss: 0.4090 - auc: 0.9008 - val_loss: 0.5028 - val_auc: 0.8060\n",
      "Epoch 37/100\n",
      "56/56 [==============================] - 0s 2ms/step - loss: 0.4159 - auc: 0.8857 - val_loss: 0.5115 - val_auc: 0.8151\n",
      "Epoch 38/100\n",
      "56/56 [==============================] - 0s 3ms/step - loss: 0.3818 - auc: 0.9121 - val_loss: 0.5050 - val_auc: 0.8215\n",
      "Epoch 39/100\n",
      "56/56 [==============================] - 0s 3ms/step - loss: 0.3837 - auc: 0.9049 - val_loss: 0.5046 - val_auc: 0.8324\n",
      "Epoch 40/100\n",
      "56/56 [==============================] - 0s 3ms/step - loss: 0.4019 - auc: 0.8974 - val_loss: 0.4949 - val_auc: 0.8260\n",
      "Epoch 41/100\n",
      "56/56 [==============================] - 0s 3ms/step - loss: 0.3714 - auc: 0.9080 - val_loss: 0.4982 - val_auc: 0.8324\n",
      "Epoch 42/100\n",
      "56/56 [==============================] - 0s 3ms/step - loss: 0.3731 - auc: 0.9075 - val_loss: 0.4974 - val_auc: 0.8361\n",
      "Epoch 43/100\n",
      "56/56 [==============================] - 0s 3ms/step - loss: 0.3666 - auc: 0.9082 - val_loss: 0.5031 - val_auc: 0.8388\n",
      "Epoch 44/100\n",
      "56/56 [==============================] - 0s 3ms/step - loss: 0.3651 - auc: 0.9205 - val_loss: 0.5027 - val_auc: 0.8388\n",
      "Epoch 45/100\n",
      "56/56 [==============================] - 0s 2ms/step - loss: 0.3652 - auc: 0.9240 - val_loss: 0.4981 - val_auc: 0.8397\n",
      "Epoch 46/100\n",
      "56/56 [==============================] - 0s 3ms/step - loss: 0.3549 - auc: 0.9176 - val_loss: 0.4874 - val_auc: 0.8424\n",
      "Epoch 47/100\n",
      "56/56 [==============================] - 0s 2ms/step - loss: 0.3625 - auc: 0.9040 - val_loss: 0.4926 - val_auc: 0.8452\n",
      "Epoch 48/100\n",
      "56/56 [==============================] - 0s 2ms/step - loss: 0.3550 - auc: 0.9158 - val_loss: 0.4864 - val_auc: 0.8488\n",
      "Epoch 49/100\n",
      "56/56 [==============================] - 0s 3ms/step - loss: 0.3677 - auc: 0.9121 - val_loss: 0.4840 - val_auc: 0.8479\n",
      "Epoch 50/100\n",
      "56/56 [==============================] - 0s 2ms/step - loss: 0.3502 - auc: 0.9212 - val_loss: 0.4773 - val_auc: 0.8479\n",
      "Epoch 51/100\n",
      "56/56 [==============================] - 0s 3ms/step - loss: 0.3283 - auc: 0.9354 - val_loss: 0.4782 - val_auc: 0.8488\n",
      "Epoch 52/100\n",
      "56/56 [==============================] - 0s 3ms/step - loss: 0.3176 - auc: 0.9280 - val_loss: 0.4846 - val_auc: 0.8479\n",
      "Epoch 53/100\n",
      "56/56 [==============================] - 0s 3ms/step - loss: 0.3129 - auc: 0.9322 - val_loss: 0.4852 - val_auc: 0.8515\n",
      "Epoch 54/100\n",
      "56/56 [==============================] - 0s 3ms/step - loss: 0.3304 - auc: 0.9223 - val_loss: 0.4448 - val_auc: 0.8634\n",
      "Epoch 55/100\n",
      "56/56 [==============================] - 0s 3ms/step - loss: 0.3125 - auc: 0.9405 - val_loss: 0.4804 - val_auc: 0.8597\n",
      "Epoch 56/100\n",
      "56/56 [==============================] - 0s 2ms/step - loss: 0.3318 - auc: 0.9268 - val_loss: 0.4560 - val_auc: 0.8689\n",
      "Epoch 57/100\n",
      "56/56 [==============================] - 0s 2ms/step - loss: 0.3126 - auc: 0.9321 - val_loss: 0.4720 - val_auc: 0.8679\n",
      "Epoch 58/100\n",
      "56/56 [==============================] - 0s 2ms/step - loss: 0.2976 - auc: 0.9437 - val_loss: 0.4746 - val_auc: 0.8780\n",
      "Epoch 59/100\n",
      "56/56 [==============================] - 0s 2ms/step - loss: 0.3261 - auc: 0.9352 - val_loss: 0.4737 - val_auc: 0.8825\n",
      "Epoch 60/100\n",
      "56/56 [==============================] - 0s 2ms/step - loss: 0.3190 - auc: 0.9377 - val_loss: 0.4751 - val_auc: 0.8925\n",
      "Epoch 61/100\n",
      "56/56 [==============================] - 0s 2ms/step - loss: 0.2999 - auc: 0.9451 - val_loss: 0.4795 - val_auc: 0.8925\n",
      "Epoch 62/100\n",
      "56/56 [==============================] - 0s 3ms/step - loss: 0.2884 - auc: 0.9467 - val_loss: 0.4838 - val_auc: 0.8962\n",
      "Epoch 63/100\n",
      "56/56 [==============================] - 0s 3ms/step - loss: 0.3217 - auc: 0.9349 - val_loss: 0.4815 - val_auc: 0.8980\n",
      "Epoch 64/100\n",
      "56/56 [==============================] - 0s 2ms/step - loss: 0.2808 - auc: 0.9486 - val_loss: 0.4785 - val_auc: 0.8998\n",
      "Epoch 65/100\n",
      "56/56 [==============================] - 0s 2ms/step - loss: 0.2713 - auc: 0.9506 - val_loss: 0.4802 - val_auc: 0.8962\n",
      "Epoch 66/100\n",
      "56/56 [==============================] - 0s 2ms/step - loss: 0.2634 - auc: 0.9565 - val_loss: 0.4804 - val_auc: 0.8998\n",
      "Epoch 67/100\n",
      "56/56 [==============================] - 0s 2ms/step - loss: 0.2862 - auc: 0.9458 - val_loss: 0.4812 - val_auc: 0.9035\n",
      "Epoch 68/100\n",
      "56/56 [==============================] - 0s 2ms/step - loss: 0.2728 - auc: 0.9504 - val_loss: 0.4832 - val_auc: 0.8980\n",
      "Epoch 69/100\n",
      "56/56 [==============================] - 0s 2ms/step - loss: 0.2724 - auc: 0.9491 - val_loss: 0.4841 - val_auc: 0.8962\n",
      "Epoch 70/100\n",
      "56/56 [==============================] - 0s 2ms/step - loss: 0.2764 - auc: 0.9414 - val_loss: 0.4849 - val_auc: 0.8971\n",
      "Epoch 71/100\n",
      "56/56 [==============================] - 0s 2ms/step - loss: 0.2767 - auc: 0.9508 - val_loss: 0.4884 - val_auc: 0.8962\n",
      "Epoch 72/100\n",
      "56/56 [==============================] - 0s 2ms/step - loss: 0.2851 - auc: 0.9424 - val_loss: 0.4871 - val_auc: 0.8953\n",
      "Epoch 73/100\n",
      "56/56 [==============================] - 0s 2ms/step - loss: 0.2481 - auc: 0.9601 - val_loss: 0.4895 - val_auc: 0.8980\n",
      "Epoch 74/100\n",
      "56/56 [==============================] - 0s 2ms/step - loss: 0.2448 - auc: 0.9595 - val_loss: 0.4906 - val_auc: 0.8944\n",
      "Epoch 75/100\n",
      "56/56 [==============================] - 0s 2ms/step - loss: 0.2503 - auc: 0.9524 - val_loss: 0.4903 - val_auc: 0.8971\n",
      "Epoch 76/100\n",
      "56/56 [==============================] - 0s 2ms/step - loss: 0.2521 - auc: 0.9622 - val_loss: 0.4841 - val_auc: 0.8962\n",
      "Epoch 77/100\n",
      "56/56 [==============================] - 0s 2ms/step - loss: 0.2413 - auc: 0.9575 - val_loss: 0.4906 - val_auc: 0.8907\n",
      "Epoch 78/100\n",
      "56/56 [==============================] - 0s 2ms/step - loss: 0.2369 - auc: 0.9601 - val_loss: 0.4836 - val_auc: 0.8916\n",
      "Epoch 79/100\n",
      "56/56 [==============================] - 0s 2ms/step - loss: 0.2858 - auc: 0.9474 - val_loss: 0.4853 - val_auc: 0.8852\n",
      "Epoch 80/100\n",
      "56/56 [==============================] - 0s 3ms/step - loss: 0.2287 - auc: 0.9589 - val_loss: 0.4868 - val_auc: 0.8862\n",
      "Epoch 81/100\n",
      "56/56 [==============================] - 0s 2ms/step - loss: 0.2413 - auc: 0.9591 - val_loss: 0.4867 - val_auc: 0.8889\n",
      "Epoch 82/100\n",
      "56/56 [==============================] - 0s 2ms/step - loss: 0.2490 - auc: 0.9607 - val_loss: 0.4973 - val_auc: 0.8807\n",
      "Epoch 83/100\n",
      "56/56 [==============================] - 0s 2ms/step - loss: 0.2267 - auc: 0.9586 - val_loss: 0.5041 - val_auc: 0.8789\n",
      "Epoch 84/100\n",
      "56/56 [==============================] - 0s 2ms/step - loss: 0.2534 - auc: 0.9537 - val_loss: 0.4964 - val_auc: 0.8834\n",
      "Epoch 85/100\n",
      "56/56 [==============================] - 0s 2ms/step - loss: 0.2446 - auc: 0.9607 - val_loss: 0.4855 - val_auc: 0.8780\n",
      "Epoch 86/100\n",
      "56/56 [==============================] - 0s 3ms/step - loss: 0.2270 - auc: 0.9593 - val_loss: 0.5101 - val_auc: 0.8725\n",
      "Epoch 87/100\n",
      "56/56 [==============================] - 0s 2ms/step - loss: 0.2315 - auc: 0.9596 - val_loss: 0.5071 - val_auc: 0.8643\n",
      "Epoch 88/100\n",
      "56/56 [==============================] - 0s 2ms/step - loss: 0.2546 - auc: 0.9551 - val_loss: 0.5102 - val_auc: 0.8725\n",
      "Epoch 89/100\n",
      "56/56 [==============================] - 0s 2ms/step - loss: 0.2161 - auc: 0.9708 - val_loss: 0.5177 - val_auc: 0.8616\n",
      "Epoch 90/100\n",
      "56/56 [==============================] - 0s 2ms/step - loss: 0.2215 - auc: 0.9656 - val_loss: 0.5168 - val_auc: 0.8552\n",
      "Epoch 91/100\n",
      "56/56 [==============================] - 0s 2ms/step - loss: 0.2174 - auc: 0.9633 - val_loss: 0.5126 - val_auc: 0.8415\n",
      "Epoch 92/100\n",
      "56/56 [==============================] - 0s 2ms/step - loss: 0.2324 - auc: 0.9575 - val_loss: 0.5204 - val_auc: 0.8415\n",
      "Epoch 93/100\n",
      "56/56 [==============================] - 0s 2ms/step - loss: 0.2309 - auc: 0.9562 - val_loss: 0.5271 - val_auc: 0.8297\n",
      "Epoch 94/100\n",
      "56/56 [==============================] - 0s 2ms/step - loss: 0.2354 - auc: 0.9595 - val_loss: 0.4664 - val_auc: 0.8333\n",
      "Epoch 95/100\n",
      "56/56 [==============================] - 0s 3ms/step - loss: 0.2299 - auc: 0.9617 - val_loss: 0.5251 - val_auc: 0.7996\n",
      "Epoch 96/100\n",
      "56/56 [==============================] - 0s 2ms/step - loss: 0.2033 - auc: 0.9720 - val_loss: 0.5264 - val_auc: 0.7978\n",
      "Epoch 97/100\n",
      "56/56 [==============================] - 0s 2ms/step - loss: 0.2021 - auc: 0.9710 - val_loss: 0.5315 - val_auc: 0.7832\n",
      "Epoch 98/100\n",
      "56/56 [==============================] - 0s 2ms/step - loss: 0.2276 - auc: 0.9653 - val_loss: 0.5296 - val_auc: 0.7896\n",
      "Epoch 99/100\n",
      "56/56 [==============================] - 0s 2ms/step - loss: 0.2334 - auc: 0.9600 - val_loss: 0.5341 - val_auc: 0.7814\n",
      "Epoch 100/100\n",
      "56/56 [==============================] - 0s 2ms/step - loss: 0.2130 - auc: 0.9661 - val_loss: 0.5372 - val_auc: 0.7805\n"
     ]
    }
   ],
   "source": [
    "# hist = model.fit(X_train, y_train, validation_split=0.1, epochs = 200)\n",
    "hist = model.fit(data_gen_train, validation_data=data_gen_test, epochs = 100)"
   ]
  },
  {
   "cell_type": "code",
   "execution_count": 11,
   "metadata": {},
   "outputs": [
    {
     "data": {
      "image/png": "[encoded data removed]",
      "text/plain": [
       "<Figure size 1080x432 with 2 Axes>"
      ]
     },
     "metadata": {},
     "output_type": "display_data"
    }
   ],
   "source": [
    "fig = plot_hist(hist, \"auc\")"
   ]
  },
  {
   "cell_type": "code",
   "execution_count": 13,
   "metadata": {},
   "outputs": [],
   "source": [
    "fig.savefig(\"./example.png\")"
   ]
  },
  {
   "cell_type": "markdown",
   "metadata": {},
   "source": [
    "### circular slicing"
   ]
  },
  {
   "cell_type": "code",
   "execution_count": null,
   "metadata": {},
   "outputs": [],
   "source": [
    "def cirular_slicing(arr: np.ndarray, start: int, size: int):\n",
    "\tl = len(arr)\n",
    "\tstart = start % l\n",
    "\tif size > l:\n",
    "\t\traise ValueError(\"maybe consider smaller size.\")\n",
    "\tif start + size > l:\n",
    "\t\treturn np.append(arr[start:], arr[:(start+size-l)])\n",
    "\telse:\n",
    "\t\treturn arr[start:(start+size)]"
   ]
  },
  {
   "cell_type": "code",
   "execution_count": null,
   "metadata": {},
   "outputs": [],
   "source": [
    "cirular_slicing(np.arange(5), 0, 3)"
   ]
  }
 ],
 "metadata": {
  "interpreter": {
   "hash": "5498173180f21b3a8393ad3fec54af51b8f992b05141d3db794d136f76fcbb38"
  },
  "kernelspec": {
   "display_name": "Python 3.10.4 ('missingdata')",
   "language": "python",
   "name": "python3"
  },
  "language_info": {
   "codemirror_mode": {
    "name": "ipython",
    "version": 3
   },
   "file_extension": ".py",
   "mimetype": "text/x-python",
   "name": "python",
   "nbconvert_exporter": "python",
   "pygments_lexer": "ipython3",
   "version": "3.10.4"
  },
  "orig_nbformat": 4
 },
 "nbformat": 4,
 "nbformat_minor": 2
}
