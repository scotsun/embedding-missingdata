{
 "cells": [
  {
   "cell_type": "code",
   "execution_count": 27,
   "metadata": {},
   "outputs": [],
   "source": [
    "import pandas as pd\n",
    "import numpy as np\n",
    "import matplotlib.pyplot as plt\n",
    "plt.style.use('Solarize_Light2')"
   ]
  },
  {
   "cell_type": "code",
   "execution_count": 2,
   "metadata": {},
   "outputs": [],
   "source": [
    "from keras.layers import Input, LSTM, Dense, TimeDistributed\n",
    "from keras import Model\n",
    "from keras.metrics import AUC"
   ]
  },
  {
   "cell_type": "code",
   "execution_count": 3,
   "metadata": {},
   "outputs": [],
   "source": [
    "df = pd.read_csv(\"./panel_wage.csv\")"
   ]
  },
  {
   "cell_type": "code",
   "execution_count": 4,
   "metadata": {},
   "outputs": [
    {
     "data": {
      "text/plain": [
       "<AxesSubplot:ylabel='Density'>"
      ]
     },
     "execution_count": 4,
     "metadata": {},
     "output_type": "execute_result"
    },
    {
     "data": {
      "image/png": "[encoded data removed]",
      "text/plain": [
       "<Figure size 432x288 with 1 Axes>"
      ]
     },
     "metadata": {},
     "output_type": "display_data"
    }
   ],
   "source": [
    "df[\"lwage\"].plot(kind=\"density\")"
   ]
  },
  {
   "cell_type": "code",
   "execution_count": 5,
   "metadata": {},
   "outputs": [],
   "source": [
    "df[\"lwage_cat\"] = pd.cut(df[\"lwage\"], [0, 7, np.Inf], labels=[0, 1]).astype(\"int\")"
   ]
  },
  {
   "cell_type": "code",
   "execution_count": 6,
   "metadata": {},
   "outputs": [],
   "source": [
    "X = np.array([df.loc[:,\"exp\":\"id\"].groupby('id').get_group(i).values[:,:-2] for i in range(1, 596)])\n",
    "Y = np.array([df.loc[:,[\"id\",\"lwage_cat\"]].groupby('id').get_group(i).values[:,1:] for i in range(1, 596)])"
   ]
  },
  {
   "cell_type": "code",
   "execution_count": 7,
   "metadata": {},
   "outputs": [
    {
     "name": "stdout",
     "output_type": "stream",
     "text": [
      "(595, 7, 11)\n",
      "(595, 7, 1)\n"
     ]
    }
   ],
   "source": [
    "print(X.shape)\n",
    "print(Y.shape)"
   ]
  },
  {
   "cell_type": "code",
   "execution_count": 8,
   "metadata": {},
   "outputs": [
    {
     "name": "stderr",
     "output_type": "stream",
     "text": [
      "2022-07-15 22:43:00.349494: I tensorflow/core/platform/cpu_feature_guard.cc:193] This TensorFlow binary is optimized with oneAPI Deep Neural Network Library (oneDNN) to use the following CPU instructions in performance-critical operations:  AVX2 AVX512F AVX512_VNNI FMA\n",
      "To enable them in other operations, rebuild TensorFlow with the appropriate compiler flags.\n"
     ]
    }
   ],
   "source": [
    "input_layer = Input(shape=(7,11,))\n",
    "encoder = LSTM(32, return_sequences=True, dropout=0.1)(input_layer)\n",
    "decoder = LSTM(32, return_sequences=True, dropout=0.1)(encoder)\n",
    "output = TimeDistributed(Dense(1, activation=\"sigmoid\"))(decoder)\n",
    "model = Model(inputs=input_layer, outputs=output)"
   ]
  },
  {
   "cell_type": "code",
   "execution_count": 9,
   "metadata": {},
   "outputs": [],
   "source": [
    "auc = AUC(name=\"auc\")\n",
    "model.compile(optimizer=\"adam\", loss=\"binary_crossentropy\", metrics=[auc])"
   ]
  },
  {
   "cell_type": "code",
   "execution_count": 10,
   "metadata": {},
   "outputs": [
    {
     "name": "stdout",
     "output_type": "stream",
     "text": [
      "Epoch 1/20\n",
      "19/19 [==============================] - 3s 7ms/step - loss: 0.6252 - auc: 0.3738\n",
      "Epoch 2/20\n",
      "19/19 [==============================] - 0s 5ms/step - loss: 0.5809 - auc: 0.3149\n",
      "Epoch 3/20\n",
      "19/19 [==============================] - 0s 5ms/step - loss: 0.5415 - auc: 0.5060\n",
      "Epoch 4/20\n",
      "19/19 [==============================] - 0s 5ms/step - loss: 0.4873 - auc: 0.7296\n",
      "Epoch 5/20\n",
      "19/19 [==============================] - 0s 5ms/step - loss: 0.4316 - auc: 0.7989\n",
      "Epoch 6/20\n",
      "19/19 [==============================] - 0s 5ms/step - loss: 0.3988 - auc: 0.8350\n",
      "Epoch 7/20\n",
      "19/19 [==============================] - 0s 5ms/step - loss: 0.3758 - auc: 0.8546\n",
      "Epoch 8/20\n",
      "19/19 [==============================] - 0s 5ms/step - loss: 0.3745 - auc: 0.8555\n",
      "Epoch 9/20\n",
      "19/19 [==============================] - 0s 5ms/step - loss: 0.3606 - auc: 0.8688\n",
      "Epoch 10/20\n",
      "19/19 [==============================] - 0s 5ms/step - loss: 0.3488 - auc: 0.8784\n",
      "Epoch 11/20\n",
      "19/19 [==============================] - 0s 5ms/step - loss: 0.3388 - auc: 0.8859\n",
      "Epoch 12/20\n",
      "19/19 [==============================] - 0s 5ms/step - loss: 0.3311 - auc: 0.8931\n",
      "Epoch 13/20\n",
      "19/19 [==============================] - 0s 5ms/step - loss: 0.3242 - auc: 0.8965\n",
      "Epoch 14/20\n",
      "19/19 [==============================] - 0s 5ms/step - loss: 0.3277 - auc: 0.8942\n",
      "Epoch 15/20\n",
      "19/19 [==============================] - 0s 5ms/step - loss: 0.3166 - auc: 0.9027\n",
      "Epoch 16/20\n",
      "19/19 [==============================] - 0s 5ms/step - loss: 0.3175 - auc: 0.8996\n",
      "Epoch 17/20\n",
      "19/19 [==============================] - 0s 5ms/step - loss: 0.3151 - auc: 0.9032\n",
      "Epoch 18/20\n",
      "19/19 [==============================] - 0s 5ms/step - loss: 0.3131 - auc: 0.9044\n",
      "Epoch 19/20\n",
      "19/19 [==============================] - 0s 5ms/step - loss: 0.3184 - auc: 0.8988\n",
      "Epoch 20/20\n",
      "19/19 [==============================] - 0s 6ms/step - loss: 0.3069 - auc: 0.9080\n"
     ]
    }
   ],
   "source": [
    "hist = model.fit(X, Y, batch_size=32, epochs=20, verbose=1)"
   ]
  },
  {
   "cell_type": "code",
   "execution_count": 11,
   "metadata": {},
   "outputs": [
    {
     "name": "stdout",
     "output_type": "stream",
     "text": [
      "19/19 [==============================] - 1s 2ms/step\n"
     ]
    }
   ],
   "source": [
    "Yh = model.predict(X)"
   ]
  },
  {
   "cell_type": "code",
   "execution_count": 13,
   "metadata": {},
   "outputs": [
    {
     "data": {
      "text/plain": [
       "[<matplotlib.lines.Line2D at 0x7fd7f29f14b0>]"
      ]
     },
     "execution_count": 13,
     "metadata": {},
     "output_type": "execute_result"
    },
    {
     "data": {
      "image/png": "[encoded data removed]",
      "text/plain": [
       "<Figure size 432x288 with 1 Axes>"
      ]
     },
     "metadata": {},
     "output_type": "display_data"
    }
   ],
   "source": [
    "plt.plot(hist.history[\"loss\"])"
   ]
  },
  {
   "cell_type": "code",
   "execution_count": 14,
   "metadata": {},
   "outputs": [],
   "source": [
    "from panel_data_example import stratified_auc, auc_w"
   ]
  },
  {
   "cell_type": "code",
   "execution_count": 32,
   "metadata": {},
   "outputs": [
    {
     "name": "stdout",
     "output_type": "stream",
     "text": [
      "19/19 [==============================] - 0s 4ms/step\n"
     ]
    }
   ],
   "source": [
    "Yh = model.predict(X)\n",
    "outcome_data = pd.DataFrame()\n",
    "outcome_data[\"outcome\"] = df[\"lwage_cat\"]\n",
    "outcome_data[\"p\"] = Yh.reshape((-1))\n",
    "outcome_data[\"count\"] = df[\"t\"]"
   ]
  },
  {
   "cell_type": "code",
   "execution_count": 33,
   "metadata": {},
   "outputs": [
    {
     "data": {
      "text/plain": [
       "0.6116787365504675"
      ]
     },
     "execution_count": 33,
     "metadata": {},
     "output_type": "execute_result"
    }
   ],
   "source": [
    "auc_w(stratified_auc(outcome_data))"
   ]
  },
  {
   "cell_type": "code",
   "execution_count": 35,
   "metadata": {},
   "outputs": [
    {
     "name": "stderr",
     "output_type": "stream",
     "text": [
      "/var/folders/ql/g2lrtrss1ns2qlwbvzmvtgzm0000gn/T/ipykernel_24605/3921395573.py:3: MatplotlibDeprecationWarning: Auto-removal of grids by pcolor() and pcolormesh() is deprecated since 3.5 and will be removed two minor releases later; please call grid(False) first.\n",
      "  plt.colorbar(orientation='vertical')\n"
     ]
    },
    {
     "data": {
      "image/png": "[encoded data removed]",
      "text/plain": [
       "<Figure size 360x432 with 2 Axes>"
      ]
     },
     "metadata": {},
     "output_type": "display_data"
    }
   ],
   "source": [
    "plt.figure(figsize=(5,6))\n",
    "plt.imshow(Yh[:7,:])\n",
    "plt.colorbar(orientation='vertical')\n",
    "plt.grid(False)"
   ]
  },
  {
   "cell_type": "markdown",
   "metadata": {},
   "source": [
    "### Random data generator"
   ]
  },
  {
   "cell_type": "code",
   "execution_count": 22,
   "metadata": {},
   "outputs": [],
   "source": [
    "from panel_data_example import train_generator"
   ]
  },
  {
   "cell_type": "code",
   "execution_count": 23,
   "metadata": {},
   "outputs": [],
   "source": [
    "g = train_generator()"
   ]
  },
  {
   "cell_type": "code",
   "execution_count": 24,
   "metadata": {},
   "outputs": [],
   "source": [
    "data = [next(g)[0] for _ in range(5)]"
   ]
  },
  {
   "cell_type": "code",
   "execution_count": 25,
   "metadata": {},
   "outputs": [
    {
     "name": "stdout",
     "output_type": "stream",
     "text": [
      "(248, 11, 5)\n",
      "(248, 1, 5)\n",
      "(248, 7, 5)\n",
      "(248, 2, 5)\n",
      "(248, 4, 5)\n"
     ]
    }
   ],
   "source": [
    "for elem in data:\n",
    "\tprint(elem.shape)"
   ]
  },
  {
   "cell_type": "code",
   "execution_count": 26,
   "metadata": {},
   "outputs": [
    {
     "data": {
      "text/plain": [
       "(11, 5)"
      ]
     },
     "execution_count": 26,
     "metadata": {},
     "output_type": "execute_result"
    }
   ],
   "source": [
    "data[0][0].shape"
   ]
  }
 ],
 "metadata": {
  "kernelspec": {
   "display_name": "Python 3.10.4 ('missingdata')",
   "language": "python",
   "name": "python3"
  },
  "language_info": {
   "codemirror_mode": {
    "name": "ipython",
    "version": 3
   },
   "file_extension": ".py",
   "mimetype": "text/x-python",
   "name": "python",
   "nbconvert_exporter": "python",
   "pygments_lexer": "ipython3",
   "version": "3.10.4"
  },
  "orig_nbformat": 4,
  "vscode": {
   "interpreter": {
    "hash": "5498173180f21b3a8393ad3fec54af51b8f992b05141d3db794d136f76fcbb38"
   }
  }
 },
 "nbformat": 4,
 "nbformat_minor": 2
}
