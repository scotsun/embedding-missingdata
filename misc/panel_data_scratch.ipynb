{
 "cells": [
  {
   "cell_type": "code",
   "execution_count": 1,
   "metadata": {},
   "outputs": [],
   "source": [
    "import pandas as pd\n",
    "import numpy as np\n",
    "import matplotlib.pyplot as plt\n",
    "plt.style.use('Solarize_Light2')"
   ]
  },
  {
   "cell_type": "code",
   "execution_count": 2,
   "metadata": {},
   "outputs": [],
   "source": [
    "from keras.layers import Input, LSTM, Dense, TimeDistributed\n",
    "from keras import Model\n",
    "from keras.metrics import AUC"
   ]
  },
  {
   "cell_type": "code",
   "execution_count": 3,
   "metadata": {},
   "outputs": [],
   "source": [
    "df = pd.read_csv(\"./panel_wage.csv\")"
   ]
  },
  {
   "cell_type": "code",
   "execution_count": 4,
   "metadata": {},
   "outputs": [
    {
     "data": {
      "text/plain": [
       "<AxesSubplot:ylabel='Density'>"
      ]
     },
     "execution_count": 4,
     "metadata": {},
     "output_type": "execute_result"
    },
    {
     "data": {
      "image/png": "[encoded data removed]",
      "text/plain": [
       "<Figure size 432x288 with 1 Axes>"
      ]
     },
     "metadata": {},
     "output_type": "display_data"
    }
   ],
   "source": [
    "df[\"lwage\"].plot(kind=\"density\")"
   ]
  },
  {
   "cell_type": "code",
   "execution_count": 5,
   "metadata": {},
   "outputs": [],
   "source": [
    "df[\"lwage_cat\"] = pd.cut(df[\"lwage\"], [0, 7, np.Inf], labels=[0, 1]).astype(\"int\")"
   ]
  },
  {
   "cell_type": "code",
   "execution_count": 6,
   "metadata": {},
   "outputs": [],
   "source": [
    "X = np.array([df.loc[:,\"exp\":\"id\"].groupby('id').get_group(i).values[:,:-2] for i in range(1, 596)])\n",
    "Y = np.array([df.loc[:,[\"id\",\"lwage_cat\"]].groupby('id').get_group(i).values[:,1:] for i in range(1, 596)])"
   ]
  },
  {
   "cell_type": "code",
   "execution_count": 7,
   "metadata": {},
   "outputs": [
    {
     "name": "stdout",
     "output_type": "stream",
     "text": [
      "(595, 7, 11)\n",
      "(595, 7, 1)\n"
     ]
    }
   ],
   "source": [
    "print(X.shape)\n",
    "print(Y.shape)"
   ]
  },
  {
   "cell_type": "code",
   "execution_count": 8,
   "metadata": {},
   "outputs": [
    {
     "name": "stderr",
     "output_type": "stream",
     "text": [
      "2022-07-18 16:41:04.673188: I tensorflow/core/platform/cpu_feature_guard.cc:193] This TensorFlow binary is optimized with oneAPI Deep Neural Network Library (oneDNN) to use the following CPU instructions in performance-critical operations:  AVX2 AVX512F AVX512_VNNI FMA\n",
      "To enable them in other operations, rebuild TensorFlow with the appropriate compiler flags.\n"
     ]
    }
   ],
   "source": [
    "input_layer = Input(shape=(7,11,))\n",
    "encoder = LSTM(32, return_sequences=True, dropout=0.1)(input_layer)\n",
    "decoder = LSTM(32, return_sequences=True, dropout=0.1)(encoder)\n",
    "output = TimeDistributed(Dense(1, activation=\"sigmoid\"))(decoder)\n",
    "model = Model(inputs=input_layer, outputs=output)"
   ]
  },
  {
   "cell_type": "code",
   "execution_count": 9,
   "metadata": {},
   "outputs": [],
   "source": [
    "auc = AUC(name=\"auc\")\n",
    "model.compile(optimizer=\"adam\", loss=\"binary_crossentropy\", metrics=[auc])"
   ]
  },
  {
   "cell_type": "code",
   "execution_count": 10,
   "metadata": {},
   "outputs": [
    {
     "name": "stdout",
     "output_type": "stream",
     "text": [
      "Epoch 1/20\n",
      "19/19 [==============================] - 3s 8ms/step - loss: 0.6485 - auc: 0.3393\n",
      "Epoch 2/20\n",
      "19/19 [==============================] - 0s 6ms/step - loss: 0.5962 - auc: 0.2649\n",
      "Epoch 3/20\n",
      "19/19 [==============================] - 0s 7ms/step - loss: 0.5622 - auc: 0.4224\n",
      "Epoch 4/20\n",
      "19/19 [==============================] - 0s 8ms/step - loss: 0.5232 - auc: 0.6390\n",
      "Epoch 5/20\n",
      "19/19 [==============================] - 0s 6ms/step - loss: 0.4778 - auc: 0.7293\n",
      "Epoch 6/20\n",
      "19/19 [==============================] - 0s 7ms/step - loss: 0.4342 - auc: 0.7950\n",
      "Epoch 7/20\n",
      "19/19 [==============================] - 0s 8ms/step - loss: 0.4260 - auc: 0.7972\n",
      "Epoch 8/20\n",
      "19/19 [==============================] - 0s 6ms/step - loss: 0.4089 - auc: 0.8175\n",
      "Epoch 9/20\n",
      "19/19 [==============================] - 0s 6ms/step - loss: 0.3885 - auc: 0.8428\n",
      "Epoch 10/20\n",
      "19/19 [==============================] - 0s 6ms/step - loss: 0.3889 - auc: 0.8387\n",
      "Epoch 11/20\n",
      "19/19 [==============================] - 0s 6ms/step - loss: 0.3837 - auc: 0.8453\n",
      "Epoch 12/20\n",
      "19/19 [==============================] - 0s 9ms/step - loss: 0.3632 - auc: 0.8673\n",
      "Epoch 13/20\n",
      "19/19 [==============================] - 0s 7ms/step - loss: 0.3601 - auc: 0.8686\n",
      "Epoch 14/20\n",
      "19/19 [==============================] - 0s 8ms/step - loss: 0.3481 - auc: 0.8791\n",
      "Epoch 15/20\n",
      "19/19 [==============================] - 0s 6ms/step - loss: 0.3502 - auc: 0.8755\n",
      "Epoch 16/20\n",
      "19/19 [==============================] - 0s 6ms/step - loss: 0.3456 - auc: 0.8799\n",
      "Epoch 17/20\n",
      "19/19 [==============================] - 0s 6ms/step - loss: 0.3391 - auc: 0.8858\n",
      "Epoch 18/20\n",
      "19/19 [==============================] - 0s 11ms/step - loss: 0.3371 - auc: 0.8869\n",
      "Epoch 19/20\n",
      "19/19 [==============================] - 0s 8ms/step - loss: 0.3334 - auc: 0.8896\n",
      "Epoch 20/20\n",
      "19/19 [==============================] - 0s 6ms/step - loss: 0.3365 - auc: 0.8868\n"
     ]
    }
   ],
   "source": [
    "hist = model.fit(X, Y, batch_size=32, epochs=20, verbose=1)"
   ]
  },
  {
   "cell_type": "code",
   "execution_count": 11,
   "metadata": {},
   "outputs": [
    {
     "data": {
      "text/plain": [
       "[<matplotlib.lines.Line2D at 0x7faf3c565f00>]"
      ]
     },
     "execution_count": 11,
     "metadata": {},
     "output_type": "execute_result"
    },
    {
     "data": {
      "image/png": "[encoded data removed]",
      "text/plain": [
       "<Figure size 432x288 with 1 Axes>"
      ]
     },
     "metadata": {},
     "output_type": "display_data"
    }
   ],
   "source": [
    "plt.plot(hist.history[\"loss\"])"
   ]
  },
  {
   "cell_type": "code",
   "execution_count": 23,
   "metadata": {},
   "outputs": [],
   "source": [
    "model.save(\"./example.h5\")"
   ]
  },
  {
   "cell_type": "code",
   "execution_count": 12,
   "metadata": {},
   "outputs": [],
   "source": [
    "from panel_data_example import stratified_auc, auc_w"
   ]
  },
  {
   "cell_type": "code",
   "execution_count": 13,
   "metadata": {},
   "outputs": [
    {
     "name": "stdout",
     "output_type": "stream",
     "text": [
      "19/19 [==============================] - 1s 2ms/step\n"
     ]
    }
   ],
   "source": [
    "Yh = model.predict(X)\n",
    "outcome_data = pd.DataFrame()\n",
    "outcome_data[\"outcome\"] = df[\"lwage_cat\"]\n",
    "outcome_data[\"p\"] = Yh.reshape((-1))\n",
    "outcome_data[\"count\"] = df[\"t\"]"
   ]
  },
  {
   "cell_type": "code",
   "execution_count": 14,
   "metadata": {},
   "outputs": [
    {
     "data": {
      "text/html": [
       "<div>\n",
       "<style scoped>\n",
       "    .dataframe tbody tr th:only-of-type {\n",
       "        vertical-align: middle;\n",
       "    }\n",
       "\n",
       "    .dataframe tbody tr th {\n",
       "        vertical-align: top;\n",
       "    }\n",
       "\n",
       "    .dataframe thead th {\n",
       "        text-align: right;\n",
       "    }\n",
       "</style>\n",
       "<table border=\"1\" class=\"dataframe\">\n",
       "  <thead>\n",
       "    <tr style=\"text-align: right;\">\n",
       "      <th></th>\n",
       "      <th>auc_i</th>\n",
       "      <th>N_i</th>\n",
       "    </tr>\n",
       "    <tr>\n",
       "      <th>count</th>\n",
       "      <th></th>\n",
       "      <th></th>\n",
       "    </tr>\n",
       "  </thead>\n",
       "  <tbody>\n",
       "    <tr>\n",
       "      <th>1</th>\n",
       "      <td>1.000000</td>\n",
       "      <td>595.0</td>\n",
       "    </tr>\n",
       "    <tr>\n",
       "      <th>2</th>\n",
       "      <td>1.000000</td>\n",
       "      <td>595.0</td>\n",
       "    </tr>\n",
       "    <tr>\n",
       "      <th>3</th>\n",
       "      <td>0.875389</td>\n",
       "      <td>595.0</td>\n",
       "    </tr>\n",
       "    <tr>\n",
       "      <th>4</th>\n",
       "      <td>0.871579</td>\n",
       "      <td>595.0</td>\n",
       "    </tr>\n",
       "    <tr>\n",
       "      <th>5</th>\n",
       "      <td>0.835281</td>\n",
       "      <td>595.0</td>\n",
       "    </tr>\n",
       "    <tr>\n",
       "      <th>6</th>\n",
       "      <td>0.827712</td>\n",
       "      <td>595.0</td>\n",
       "    </tr>\n",
       "    <tr>\n",
       "      <th>7</th>\n",
       "      <td>0.799587</td>\n",
       "      <td>595.0</td>\n",
       "    </tr>\n",
       "  </tbody>\n",
       "</table>\n",
       "</div>"
      ],
      "text/plain": [
       "          auc_i    N_i\n",
       "count                 \n",
       "1      1.000000  595.0\n",
       "2      1.000000  595.0\n",
       "3      0.875389  595.0\n",
       "4      0.871579  595.0\n",
       "5      0.835281  595.0\n",
       "6      0.827712  595.0\n",
       "7      0.799587  595.0"
      ]
     },
     "execution_count": 14,
     "metadata": {},
     "output_type": "execute_result"
    }
   ],
   "source": [
    "stratified_auc(outcome_data)"
   ]
  },
  {
   "cell_type": "code",
   "execution_count": 15,
   "metadata": {},
   "outputs": [
    {
     "data": {
      "text/plain": [
       "0.8870783533368791"
      ]
     },
     "execution_count": 15,
     "metadata": {},
     "output_type": "execute_result"
    }
   ],
   "source": [
    "auc_w(stratified_auc(outcome_data))"
   ]
  },
  {
   "cell_type": "code",
   "execution_count": 16,
   "metadata": {},
   "outputs": [
    {
     "name": "stderr",
     "output_type": "stream",
     "text": [
      "/var/folders/ql/g2lrtrss1ns2qlwbvzmvtgzm0000gn/T/ipykernel_95670/3921395573.py:3: MatplotlibDeprecationWarning: Auto-removal of grids by pcolor() and pcolormesh() is deprecated since 3.5 and will be removed two minor releases later; please call grid(False) first.\n",
      "  plt.colorbar(orientation='vertical')\n"
     ]
    },
    {
     "data": {
      "image/png": "[encoded data removed]",
      "text/plain": [
       "<Figure size 360x432 with 2 Axes>"
      ]
     },
     "metadata": {},
     "output_type": "display_data"
    }
   ],
   "source": [
    "plt.figure(figsize=(5,6))\n",
    "plt.imshow(Yh[:7,:])\n",
    "plt.colorbar(orientation='vertical')\n",
    "plt.grid(False)"
   ]
  },
  {
   "cell_type": "markdown",
   "metadata": {},
   "source": [
    "### Random data generator"
   ]
  },
  {
   "cell_type": "code",
   "execution_count": 17,
   "metadata": {},
   "outputs": [],
   "source": [
    "from panel_data_example import train_generator"
   ]
  },
  {
   "cell_type": "code",
   "execution_count": 18,
   "metadata": {},
   "outputs": [],
   "source": [
    "g = train_generator()"
   ]
  },
  {
   "cell_type": "code",
   "execution_count": 19,
   "metadata": {},
   "outputs": [],
   "source": [
    "data = [next(g)[0] for _ in range(5)]"
   ]
  },
  {
   "cell_type": "code",
   "execution_count": 20,
   "metadata": {},
   "outputs": [
    {
     "name": "stdout",
     "output_type": "stream",
     "text": [
      "(248, 13, 5)\n",
      "(248, 5, 5)\n",
      "(248, 9, 5)\n",
      "(248, 1, 5)\n",
      "(248, 10, 5)\n"
     ]
    }
   ],
   "source": [
    "for elem in data:\n",
    "\tprint(elem.shape)"
   ]
  },
  {
   "cell_type": "code",
   "execution_count": 21,
   "metadata": {},
   "outputs": [
    {
     "data": {
      "text/plain": [
       "(13, 5)"
      ]
     },
     "execution_count": 21,
     "metadata": {},
     "output_type": "execute_result"
    }
   ],
   "source": [
    "data[0][0].shape"
   ]
  },
  {
   "cell_type": "code",
   "execution_count": null,
   "metadata": {},
   "outputs": [],
   "source": []
  }
 ],
 "metadata": {
  "kernelspec": {
   "display_name": "Python 3.10.4 ('missingdata')",
   "language": "python",
   "name": "python3"
  },
  "language_info": {
   "codemirror_mode": {
    "name": "ipython",
    "version": 3
   },
   "file_extension": ".py",
   "mimetype": "text/x-python",
   "name": "python",
   "nbconvert_exporter": "python",
   "pygments_lexer": "ipython3",
   "version": "3.10.4"
  },
  "orig_nbformat": 4,
  "vscode": {
   "interpreter": {
    "hash": "5498173180f21b3a8393ad3fec54af51b8f992b05141d3db794d136f76fcbb38"
   }
  }
 },
 "nbformat": 4,
 "nbformat_minor": 2
}
